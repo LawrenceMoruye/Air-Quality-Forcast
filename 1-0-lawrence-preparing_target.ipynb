{
 "cells": [
  {
   "cell_type": "code",
   "execution_count": 29,
   "metadata": {
    "_cell_guid": "b1076dfc-b9ad-4769-8c92-a6c4dae69d19",
    "_uuid": "8f2839f25d086af736a60e9eeb907d3b93b6e0e5",
    "execution": {
     "iopub.execute_input": "2021-12-08T13:52:41.046374Z",
     "iopub.status.busy": "2021-12-08T13:52:41.045505Z",
     "iopub.status.idle": "2021-12-08T13:52:41.074495Z",
     "shell.execute_reply": "2021-12-08T13:52:41.073874Z",
     "shell.execute_reply.started": "2021-12-08T13:52:41.046179Z"
    }
   },
   "outputs": [],
   "source": [
    "import pandas as pd\n",
    "import numpy as np\n",
    "import matplotlib.pyplot as plt\n",
    "%matplotlib inline\n",
    "import warnings\n",
    "warnings.filterwarnings('ignore')\n",
    "pd.options.display.max_rows=None\n",
    "pd.options.display.max_columns=None\n",
    "import datetime"
   ]
  },
  {
   "cell_type": "code",
   "execution_count": 30,
   "metadata": {
    "execution": {
     "iopub.execute_input": "2021-12-08T13:52:41.076352Z",
     "iopub.status.busy": "2021-12-08T13:52:41.076106Z",
     "iopub.status.idle": "2021-12-08T13:53:24.443836Z",
     "shell.execute_reply": "2021-12-08T13:53:24.443093Z",
     "shell.execute_reply.started": "2021-12-08T13:52:41.076321Z"
    }
   },
   "outputs": [],
   "source": [
    "#read the datasets\n",
    "ss=pd.read_csv('sample_dataset.csv')\n",
    "sites=pd.read_csv('sites_metadata.csv')"
   ]
  },
  {
   "cell_type": "code",
   "execution_count": 35,
   "metadata": {
    "execution": {
     "iopub.execute_input": "2021-12-08T13:53:31.724093Z",
     "iopub.status.busy": "2021-12-08T13:53:31.723614Z",
     "iopub.status.idle": "2021-12-08T13:53:32.514428Z",
     "shell.execute_reply": "2021-12-08T13:53:32.513663Z",
     "shell.execute_reply.started": "2021-12-08T13:53:31.724059Z"
    }
   },
   "outputs": [],
   "source": [
    "ss.drop('Unnamed: 0',axis='columns', inplace=True)#drop column which doesnt make sense"
   ]
  },
  {
   "cell_type": "code",
   "execution_count": 38,
   "metadata": {
    "execution": {
     "iopub.execute_input": "2021-12-08T13:53:32.543385Z",
     "iopub.status.busy": "2021-12-08T13:53:32.543018Z",
     "iopub.status.idle": "2021-12-08T13:54:07.715044Z",
     "shell.execute_reply": "2021-12-08T13:54:07.714276Z",
     "shell.execute_reply.started": "2021-12-08T13:53:32.543351Z"
    }
   },
   "outputs": [],
   "source": [
    "ss.drop_duplicates(keep = False, inplace = True)#there were duplicates,we drop them"
   ]
  },
  {
   "cell_type": "markdown",
   "metadata": {},
   "source": [
    "### Separate Train and Test dataset based on time"
   ]
  },
  {
   "cell_type": "code",
   "execution_count": 62,
   "metadata": {
    "execution": {
     "iopub.execute_input": "2021-12-08T13:54:14.317879Z",
     "iopub.status.busy": "2021-12-08T13:54:14.317566Z",
     "iopub.status.idle": "2021-12-08T13:54:17.815735Z",
     "shell.execute_reply": "2021-12-08T13:54:17.814863Z",
     "shell.execute_reply.started": "2021-12-08T13:54:14.317839Z"
    }
   },
   "outputs": [],
   "source": [
    "test_data =(ss[ss['TimeStamp']>'2020-12-31 00:00:00']).reset_index(drop=True)"
   ]
  },
  {
   "cell_type": "code",
   "execution_count": 64,
   "metadata": {
    "execution": {
     "iopub.execute_input": "2021-12-08T13:54:17.826205Z",
     "iopub.status.busy": "2021-12-08T13:54:17.825825Z",
     "iopub.status.idle": "2021-12-08T13:54:22.171397Z",
     "shell.execute_reply": "2021-12-08T13:54:22.170679Z",
     "shell.execute_reply.started": "2021-12-08T13:54:17.826170Z"
    }
   },
   "outputs": [],
   "source": [
    "train_data =(ss[ss['TimeStamp']<='2020-12-31 00:00:00']).reset_index(drop=True)"
   ]
  },
  {
   "cell_type": "code",
   "execution_count": 66,
   "metadata": {
    "execution": {
     "iopub.execute_input": "2021-12-08T13:54:22.179929Z",
     "iopub.status.busy": "2021-12-08T13:54:22.179289Z",
     "iopub.status.idle": "2021-12-08T13:54:22.195610Z",
     "shell.execute_reply": "2021-12-08T13:54:22.194915Z",
     "shell.execute_reply.started": "2021-12-08T13:54:22.179892Z"
    }
   },
   "outputs": [
    {
     "data": {
      "text/html": [
       "<div>\n",
       "<style scoped>\n",
       "    .dataframe tbody tr th:only-of-type {\n",
       "        vertical-align: middle;\n",
       "    }\n",
       "\n",
       "    .dataframe tbody tr th {\n",
       "        vertical-align: top;\n",
       "    }\n",
       "\n",
       "    .dataframe thead th {\n",
       "        text-align: right;\n",
       "    }\n",
       "</style>\n",
       "<table border=\"1\" class=\"dataframe\">\n",
       "  <thead>\n",
       "    <tr style=\"text-align: right;\">\n",
       "      <th></th>\n",
       "      <th>channel_id</th>\n",
       "      <th>pm2_5</th>\n",
       "      <th>pm10</th>\n",
       "      <th>s2_pm2_5</th>\n",
       "      <th>s2_pm10</th>\n",
       "      <th>Site</th>\n",
       "      <th>TimeStamp</th>\n",
       "    </tr>\n",
       "  </thead>\n",
       "  <tbody>\n",
       "    <tr>\n",
       "      <th>0</th>\n",
       "      <td>912223</td>\n",
       "      <td>81.15</td>\n",
       "      <td>87.97</td>\n",
       "      <td>71.07</td>\n",
       "      <td>78.12</td>\n",
       "      <td>Banda, Kampala</td>\n",
       "      <td>2020-01-27 10:08:56</td>\n",
       "    </tr>\n",
       "    <tr>\n",
       "      <th>1</th>\n",
       "      <td>912223</td>\n",
       "      <td>78.00</td>\n",
       "      <td>84.90</td>\n",
       "      <td>68.95</td>\n",
       "      <td>76.35</td>\n",
       "      <td>Banda, Kampala</td>\n",
       "      <td>2020-01-27 10:10:22</td>\n",
       "    </tr>\n",
       "    <tr>\n",
       "      <th>2</th>\n",
       "      <td>912223</td>\n",
       "      <td>76.75</td>\n",
       "      <td>81.40</td>\n",
       "      <td>70.92</td>\n",
       "      <td>77.17</td>\n",
       "      <td>Banda, Kampala</td>\n",
       "      <td>2020-01-27 10:11:44</td>\n",
       "    </tr>\n",
       "    <tr>\n",
       "      <th>3</th>\n",
       "      <td>912223</td>\n",
       "      <td>72.37</td>\n",
       "      <td>78.53</td>\n",
       "      <td>66.85</td>\n",
       "      <td>75.37</td>\n",
       "      <td>Banda, Kampala</td>\n",
       "      <td>2020-01-27 10:13:05</td>\n",
       "    </tr>\n",
       "    <tr>\n",
       "      <th>4</th>\n",
       "      <td>912223</td>\n",
       "      <td>81.32</td>\n",
       "      <td>87.63</td>\n",
       "      <td>71.97</td>\n",
       "      <td>77.67</td>\n",
       "      <td>Banda, Kampala</td>\n",
       "      <td>2020-01-27 10:14:38</td>\n",
       "    </tr>\n",
       "  </tbody>\n",
       "</table>\n",
       "</div>"
      ],
      "text/plain": [
       "   channel_id  pm2_5   pm10  s2_pm2_5  s2_pm10            Site  \\\n",
       "0      912223  81.15  87.97     71.07    78.12  Banda, Kampala   \n",
       "1      912223  78.00  84.90     68.95    76.35  Banda, Kampala   \n",
       "2      912223  76.75  81.40     70.92    77.17  Banda, Kampala   \n",
       "3      912223  72.37  78.53     66.85    75.37  Banda, Kampala   \n",
       "4      912223  81.32  87.63     71.97    77.67  Banda, Kampala   \n",
       "\n",
       "             TimeStamp  \n",
       "0  2020-01-27 10:08:56  \n",
       "1  2020-01-27 10:10:22  \n",
       "2  2020-01-27 10:11:44  \n",
       "3  2020-01-27 10:13:05  \n",
       "4  2020-01-27 10:14:38  "
      ]
     },
     "execution_count": 66,
     "metadata": {},
     "output_type": "execute_result"
    }
   ],
   "source": [
    "train_data.head()"
   ]
  },
  {
   "cell_type": "code",
   "execution_count": 68,
   "metadata": {},
   "outputs": [],
   "source": [
    "train_data['TimeStamp']=train_data['TimeStamp'].apply(lambda x: x.split(':')[0])"
   ]
  },
  {
   "cell_type": "code",
   "execution_count": 69,
   "metadata": {},
   "outputs": [
    {
     "data": {
      "text/html": [
       "<div>\n",
       "<style scoped>\n",
       "    .dataframe tbody tr th:only-of-type {\n",
       "        vertical-align: middle;\n",
       "    }\n",
       "\n",
       "    .dataframe tbody tr th {\n",
       "        vertical-align: top;\n",
       "    }\n",
       "\n",
       "    .dataframe thead th {\n",
       "        text-align: right;\n",
       "    }\n",
       "</style>\n",
       "<table border=\"1\" class=\"dataframe\">\n",
       "  <thead>\n",
       "    <tr style=\"text-align: right;\">\n",
       "      <th></th>\n",
       "      <th>channel_id</th>\n",
       "      <th>pm2_5</th>\n",
       "      <th>pm10</th>\n",
       "      <th>s2_pm2_5</th>\n",
       "      <th>s2_pm10</th>\n",
       "      <th>Site</th>\n",
       "      <th>TimeStamp</th>\n",
       "    </tr>\n",
       "  </thead>\n",
       "  <tbody>\n",
       "    <tr>\n",
       "      <th>0</th>\n",
       "      <td>912223</td>\n",
       "      <td>81.15</td>\n",
       "      <td>87.97</td>\n",
       "      <td>71.07</td>\n",
       "      <td>78.12</td>\n",
       "      <td>Banda, Kampala</td>\n",
       "      <td>2020-01-27 10</td>\n",
       "    </tr>\n",
       "    <tr>\n",
       "      <th>1</th>\n",
       "      <td>912223</td>\n",
       "      <td>78.00</td>\n",
       "      <td>84.90</td>\n",
       "      <td>68.95</td>\n",
       "      <td>76.35</td>\n",
       "      <td>Banda, Kampala</td>\n",
       "      <td>2020-01-27 10</td>\n",
       "    </tr>\n",
       "    <tr>\n",
       "      <th>2</th>\n",
       "      <td>912223</td>\n",
       "      <td>76.75</td>\n",
       "      <td>81.40</td>\n",
       "      <td>70.92</td>\n",
       "      <td>77.17</td>\n",
       "      <td>Banda, Kampala</td>\n",
       "      <td>2020-01-27 10</td>\n",
       "    </tr>\n",
       "    <tr>\n",
       "      <th>3</th>\n",
       "      <td>912223</td>\n",
       "      <td>72.37</td>\n",
       "      <td>78.53</td>\n",
       "      <td>66.85</td>\n",
       "      <td>75.37</td>\n",
       "      <td>Banda, Kampala</td>\n",
       "      <td>2020-01-27 10</td>\n",
       "    </tr>\n",
       "    <tr>\n",
       "      <th>4</th>\n",
       "      <td>912223</td>\n",
       "      <td>81.32</td>\n",
       "      <td>87.63</td>\n",
       "      <td>71.97</td>\n",
       "      <td>77.67</td>\n",
       "      <td>Banda, Kampala</td>\n",
       "      <td>2020-01-27 10</td>\n",
       "    </tr>\n",
       "  </tbody>\n",
       "</table>\n",
       "</div>"
      ],
      "text/plain": [
       "   channel_id  pm2_5   pm10  s2_pm2_5  s2_pm10            Site      TimeStamp\n",
       "0      912223  81.15  87.97     71.07    78.12  Banda, Kampala  2020-01-27 10\n",
       "1      912223  78.00  84.90     68.95    76.35  Banda, Kampala  2020-01-27 10\n",
       "2      912223  76.75  81.40     70.92    77.17  Banda, Kampala  2020-01-27 10\n",
       "3      912223  72.37  78.53     66.85    75.37  Banda, Kampala  2020-01-27 10\n",
       "4      912223  81.32  87.63     71.97    77.67  Banda, Kampala  2020-01-27 10"
      ]
     },
     "execution_count": 69,
     "metadata": {},
     "output_type": "execute_result"
    }
   ],
   "source": [
    "train_data.head()"
   ]
  },
  {
   "cell_type": "code",
   "execution_count": 70,
   "metadata": {
    "execution": {
     "iopub.execute_input": "2021-12-08T13:54:25.805044Z",
     "iopub.status.busy": "2021-12-08T13:54:25.804278Z"
    }
   },
   "outputs": [],
   "source": [
    "train_data=train_data.groupby(['channel_id','Site','TimeStamp'],as_index=False)['pm2_5','pm10','s2_pm2_5','s2_pm10'].mean()"
   ]
  },
  {
   "cell_type": "code",
   "execution_count": 71,
   "metadata": {},
   "outputs": [
    {
     "data": {
      "text/html": [
       "<div>\n",
       "<style scoped>\n",
       "    .dataframe tbody tr th:only-of-type {\n",
       "        vertical-align: middle;\n",
       "    }\n",
       "\n",
       "    .dataframe tbody tr th {\n",
       "        vertical-align: top;\n",
       "    }\n",
       "\n",
       "    .dataframe thead th {\n",
       "        text-align: right;\n",
       "    }\n",
       "</style>\n",
       "<table border=\"1\" class=\"dataframe\">\n",
       "  <thead>\n",
       "    <tr style=\"text-align: right;\">\n",
       "      <th></th>\n",
       "      <th>channel_id</th>\n",
       "      <th>Site</th>\n",
       "      <th>TimeStamp</th>\n",
       "      <th>pm2_5</th>\n",
       "      <th>pm10</th>\n",
       "      <th>s2_pm2_5</th>\n",
       "      <th>s2_pm10</th>\n",
       "    </tr>\n",
       "  </thead>\n",
       "  <tbody>\n",
       "    <tr>\n",
       "      <th>0</th>\n",
       "      <td>672528</td>\n",
       "      <td>Kasharara, Rubirizi</td>\n",
       "      <td>2019-01-12 11</td>\n",
       "      <td>24.143333</td>\n",
       "      <td>26.253333</td>\n",
       "      <td>17.363333</td>\n",
       "      <td>17.556667</td>\n",
       "    </tr>\n",
       "    <tr>\n",
       "      <th>1</th>\n",
       "      <td>672528</td>\n",
       "      <td>Kasharara, Rubirizi</td>\n",
       "      <td>2019-01-12 12</td>\n",
       "      <td>21.483333</td>\n",
       "      <td>22.496667</td>\n",
       "      <td>16.390000</td>\n",
       "      <td>18.133333</td>\n",
       "    </tr>\n",
       "    <tr>\n",
       "      <th>2</th>\n",
       "      <td>672528</td>\n",
       "      <td>Kasharara, Rubirizi</td>\n",
       "      <td>2019-01-14 15</td>\n",
       "      <td>104.745714</td>\n",
       "      <td>115.884286</td>\n",
       "      <td>91.912857</td>\n",
       "      <td>100.761429</td>\n",
       "    </tr>\n",
       "    <tr>\n",
       "      <th>3</th>\n",
       "      <td>672528</td>\n",
       "      <td>Kasharara, Rubirizi</td>\n",
       "      <td>2019-01-14 16</td>\n",
       "      <td>95.730000</td>\n",
       "      <td>107.880000</td>\n",
       "      <td>98.517391</td>\n",
       "      <td>106.456522</td>\n",
       "    </tr>\n",
       "    <tr>\n",
       "      <th>4</th>\n",
       "      <td>672528</td>\n",
       "      <td>Kasharara, Rubirizi</td>\n",
       "      <td>2019-01-14 17</td>\n",
       "      <td>147.107826</td>\n",
       "      <td>159.262174</td>\n",
       "      <td>142.483478</td>\n",
       "      <td>149.680000</td>\n",
       "    </tr>\n",
       "  </tbody>\n",
       "</table>\n",
       "</div>"
      ],
      "text/plain": [
       "   channel_id                 Site      TimeStamp       pm2_5        pm10  \\\n",
       "0      672528  Kasharara, Rubirizi  2019-01-12 11   24.143333   26.253333   \n",
       "1      672528  Kasharara, Rubirizi  2019-01-12 12   21.483333   22.496667   \n",
       "2      672528  Kasharara, Rubirizi  2019-01-14 15  104.745714  115.884286   \n",
       "3      672528  Kasharara, Rubirizi  2019-01-14 16   95.730000  107.880000   \n",
       "4      672528  Kasharara, Rubirizi  2019-01-14 17  147.107826  159.262174   \n",
       "\n",
       "     s2_pm2_5     s2_pm10  \n",
       "0   17.363333   17.556667  \n",
       "1   16.390000   18.133333  \n",
       "2   91.912857  100.761429  \n",
       "3   98.517391  106.456522  \n",
       "4  142.483478  149.680000  "
      ]
     },
     "execution_count": 71,
     "metadata": {},
     "output_type": "execute_result"
    }
   ],
   "source": [
    "train_data.head()"
   ]
  },
  {
   "cell_type": "code",
   "execution_count": 63,
   "metadata": {},
   "outputs": [],
   "source": [
    "test_data =test_data[['channel_id','Site','TimeStamp','pm2_5']]"
   ]
  },
  {
   "cell_type": "code",
   "execution_count": 64,
   "metadata": {},
   "outputs": [],
   "source": [
    "test_data['TimeStamp']=test_data['TimeStamp'].apply(lambda x: x.split(':')[0])"
   ]
  },
  {
   "cell_type": "code",
   "execution_count": 65,
   "metadata": {},
   "outputs": [],
   "source": [
    "test_data=test_data.groupby(['channel_id','Site','TimeStamp'],as_index=False)['pm2_5','pm10','s2_pm2_5','s2_pm10'].mean()"
   ]
  },
  {
   "cell_type": "code",
   "execution_count": 68,
   "metadata": {},
   "outputs": [],
   "source": [
    "train_data.to_csv('final_train.csv',index=False)"
   ]
  },
  {
   "cell_type": "code",
   "execution_count": 69,
   "metadata": {},
   "outputs": [],
   "source": [
    "test_data.to_csv('final_test.csv',index=False)"
   ]
  },
  {
   "cell_type": "code",
   "execution_count": null,
   "metadata": {},
   "outputs": [],
   "source": []
  }
 ],
 "metadata": {
  "kernelspec": {
   "display_name": "Python 3",
   "language": "python",
   "name": "python3"
  },
  "language_info": {
   "codemirror_mode": {
    "name": "ipython",
    "version": 3
   },
   "file_extension": ".py",
   "mimetype": "text/x-python",
   "name": "python",
   "nbconvert_exporter": "python",
   "pygments_lexer": "ipython3",
   "version": "3.8.5"
  }
 },
 "nbformat": 4,
 "nbformat_minor": 4
}
